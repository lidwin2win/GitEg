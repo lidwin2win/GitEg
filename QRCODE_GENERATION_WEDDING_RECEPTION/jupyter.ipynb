{
  "cells": [
    {
      "cell_type": "markdown",
      "id": "31d9a4c9",
      "metadata": {
        "origin_pos": 0,
        "id": "31d9a4c9"
      },
      "source": []
    },
    {
      "cell_type": "code",
      "source": [
        "!pip install qrcode\n",
        "\n",
        "\n",
        "import qrcode\n",
        "data = \"https://lidwin2win.github.io/ReceptionLocation/\"\n",
        "\n",
        "# Generate QR code\n",
        "qr = qrcode.QRCode(\n",
        "    version=1,  # Controls the size of the QR Code\n",
        "    error_correction=qrcode.constants.ERROR_CORRECT_L,\n",
        "    box_size=10,\n",
        "    border=4,\n",
        ")\n",
        "qr.add_data(data)\n",
        "qr.make(fit=True)\n",
        "\n",
        "# Create and save the image\n",
        "img = qr.make_image(fill_color=\"black\", back_color=\"white\")\n",
        "img.save(\"static_qr_code_redirect_reception.png\")"
      ],
      "metadata": {
        "id": "aaDAsbNvZkbX",
        "outputId": "3a2e02b4-7e44-4e10-ae66-6abab1795749",
        "colab": {
          "base_uri": "https://localhost:8080/"
        }
      },
      "id": "aaDAsbNvZkbX",
      "execution_count": 3,
      "outputs": [
        {
          "output_type": "stream",
          "name": "stdout",
          "text": [
            "Requirement already satisfied: qrcode in /usr/local/lib/python3.10/dist-packages (8.0)\n"
          ]
        }
      ]
    }
  ],
  "metadata": {
    "kernelspec": {
      "display_name": "Python 3",
      "name": "python3"
    },
    "language_info": {
      "name": "python"
    },
    "required_libs": [],
    "colab": {
      "provenance": []
    }
  },
  "nbformat": 4,
  "nbformat_minor": 5
}